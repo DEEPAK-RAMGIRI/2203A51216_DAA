{
  "nbformat": 4,
  "nbformat_minor": 0,
  "metadata": {
    "colab": {
      "provenance": [],
      "authorship_tag": "ABX9TyOu6nVMkj8s451SdPO9XcYd",
      "include_colab_link": true
    },
    "kernelspec": {
      "name": "python3",
      "display_name": "Python 3"
    },
    "language_info": {
      "name": "python"
    }
  },
  "cells": [
    {
      "cell_type": "markdown",
      "metadata": {
        "id": "view-in-github",
        "colab_type": "text"
      },
      "source": [
        "<a href=\"https://colab.research.google.com/github/DEEPAK-RAMGIRI/2203A51216_DAA/blob/main/LAB_002.ipynb\" target=\"_parent\"><img src=\"https://colab.research.google.com/assets/colab-badge.svg\" alt=\"Open In Colab\"/></a>"
      ]
    },
    {
      "cell_type": "markdown",
      "source": [
        "# DATE:01/08/2024"
      ],
      "metadata": {
        "id": "vYPXCdBrL4iC"
      }
    },
    {
      "cell_type": "markdown",
      "source": [
        "#BUBBLE SORT"
      ],
      "metadata": {
        "id": "IE4AunL5PTAt"
      }
    },
    {
      "cell_type": "code",
      "execution_count": 2,
      "metadata": {
        "colab": {
          "base_uri": "https://localhost:8080/"
        },
        "id": "odcmEXeoJ3C4",
        "outputId": "3faa2c64-1b45-49ae-afeb-4b40325ee678"
      },
      "outputs": [
        {
          "output_type": "stream",
          "name": "stdout",
          "text": [
            "4 \n",
            "2\n",
            "1\n",
            "0\n",
            "[0, 1, 2, 4]\n"
          ]
        }
      ],
      "source": [
        "#Bubble Sort\n",
        "#Dynamically taking the values\n",
        "#Time Complexcity O(N^2)\n",
        "def function1(a):\n",
        "  for i in range(len(a)):\n",
        "    for j in range (len(a)-1):\n",
        "      if a[j] > a[j+1]:\n",
        "        temp=a[j+1]\n",
        "        a[j+1]=a[j]\n",
        "        a[j]=temp\n",
        "  return a\n",
        "a=[]\n",
        "for i in range(4):\n",
        "  a.append(int(input()))\n",
        "print(function1(a))"
      ]
    },
    {
      "cell_type": "markdown",
      "source": [
        "#SELECTION SORT"
      ],
      "metadata": {
        "id": "psbvw5bTPm6W"
      }
    },
    {
      "cell_type": "code",
      "source": [
        "#Selection Sort\n",
        "#Time Complexcity O(N^2)\n",
        "#Space Complexcity\n",
        "def function1(a):\n",
        "  for i in range(len(a)-1):\n",
        "    index=i\n",
        "    for j in range(i+1,len(a)):\n",
        "      if(a[index] > a[j]):\n",
        "        index=j\n",
        "    a[i],a[index]=a[index],a[i]\n",
        "  return a\n",
        "a=[1,23,4,5,6,79,0,34]\n",
        "print(function1(a))"
      ],
      "metadata": {
        "colab": {
          "base_uri": "https://localhost:8080/"
        },
        "id": "-GDQdTrdKMV8",
        "outputId": "c272127f-a899-4611-a0f3-5f2c9c44d5ec"
      },
      "execution_count": 3,
      "outputs": [
        {
          "output_type": "stream",
          "name": "stdout",
          "text": [
            "[0, 1, 4, 5, 6, 23, 34, 79]\n"
          ]
        }
      ]
    },
    {
      "cell_type": "markdown",
      "source": [
        "#INSERTION SORT"
      ],
      "metadata": {
        "id": "H-ZhUcCxPfIX"
      }
    },
    {
      "cell_type": "code",
      "source": [
        "#Insertion Sort\n",
        "#Time Complexcity O(n^2)\n",
        "def function1(a):\n",
        "  for i in range(len(a)):\n",
        "    key=a[i]\n",
        "    j=i-1\n",
        "    while j>=0 and key<a[j]:\n",
        "      a[j + 1] = a[j]\n",
        "      j -= 1\n",
        "    a[j + 1] = key\n",
        "  return a\n",
        "a=[1,23,4,5,6,79,0,34]\n",
        "print(function1(a))"
      ],
      "metadata": {
        "id": "tWUrkxn95Qog",
        "outputId": "9ee7942c-50ef-489e-ab3c-44f9fed325e6",
        "colab": {
          "base_uri": "https://localhost:8080/"
        }
      },
      "execution_count": 5,
      "outputs": [
        {
          "output_type": "stream",
          "name": "stdout",
          "text": [
            "[0, 1, 4, 5, 6, 23, 34, 79]\n"
          ]
        }
      ]
    }
  ]
}