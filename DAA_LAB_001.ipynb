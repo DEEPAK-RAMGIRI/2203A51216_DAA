{
  "nbformat": 4,
  "nbformat_minor": 0,
  "metadata": {
    "colab": {
      "provenance": [],
      "toc_visible": true,
      "authorship_tag": "ABX9TyPyzzJio0BMfa9fq4v2p1C7",
      "include_colab_link": true
    },
    "kernelspec": {
      "name": "python3",
      "display_name": "Python 3"
    },
    "language_info": {
      "name": "python"
    }
  },
  "cells": [
    {
      "cell_type": "markdown",
      "metadata": {
        "id": "view-in-github",
        "colab_type": "text"
      },
      "source": [
        "<a href=\"https://colab.research.google.com/github/DEEPAK-RAMGIRI/2203A51216_DAA/blob/main/DAA_LAB_001.ipynb\" target=\"_parent\"><img src=\"https://colab.research.google.com/assets/colab-badge.svg\" alt=\"Open In Colab\"/></a>"
      ]
    },
    {
      "cell_type": "code",
      "execution_count": null,
      "metadata": {
        "colab": {
          "base_uri": "https://localhost:8080/"
        },
        "collapsed": true,
        "id": "qiJWiUyjE_wn",
        "outputId": "7800fc46-9ebf-4943-ffec-068177535f8c"
      },
      "outputs": [
        {
          "output_type": "stream",
          "name": "stdout",
          "text": [
            "3 33 7 25 59 "
          ]
        }
      ],
      "source": [
        "#ADDITION OF SINGLE MATRIX\n",
        "a=[1,2,3,4,54]\n",
        "b=[2,31,4,21,5]\n",
        "for i in range(len(a)):\n",
        "  a[i]+=b[i]\n",
        "for i in range(len(b)):\n",
        "  print(a[i],end=\" \")\n",
        "\n"
      ]
    },
    {
      "cell_type": "code",
      "source": [
        "#aDDITION OF MATRIX DYNAMICALLY\n",
        "rows =int(input(\"\"))\n",
        "col= int(input(\"\"))\n",
        "a=[[0]*col]*rows\n",
        "b=[[0]*col]*rows\n",
        "for i in range(rows):\n",
        "  for j in range(col):\n",
        "    a[i][j]=int(input(\"\"))\n",
        "for i in range(rows):\n",
        "  for j in range(col):\n",
        "    b[i][j]=int(input(\"\"))\n",
        "for i in range(rows):\n",
        "  for i in range(col):\n",
        "    print(a[i][j]+b[i][j],end=\" \")\n",
        "  print()\n",
        "\n",
        "\n"
      ],
      "metadata": {
        "colab": {
          "base_uri": "https://localhost:8080/"
        },
        "id": "UFbCFzy-G76C",
        "outputId": "9c748f78-a1cf-42f7-f5c0-ee0417fa7375"
      },
      "execution_count": null,
      "outputs": [
        {
          "output_type": "stream",
          "name": "stdout",
          "text": [
            "2\n",
            "2\n",
            "2\n",
            "2\n",
            "2\n",
            "2\n",
            "2\n",
            "2\n",
            "2\n",
            "2\n",
            "4 4 \n",
            "4 4 \n"
          ]
        }
      ]
    },
    {
      "cell_type": "code",
      "source": [
        "#ADDITION OF MATRIX STATICALLY\n",
        "rows=col=2\n",
        "a=[[2,2],[2,2]]\n",
        "b=[[2,2],[2,2]]\n",
        "for i in range(rows):\n",
        "  for i in range(col):\n",
        "    print(a[i][j]+b[i][j],end=\" \")\n",
        "  print()"
      ],
      "metadata": {
        "id": "4Y6jOklALu2O"
      },
      "execution_count": null,
      "outputs": []
    },
    {
      "cell_type": "code",
      "source": [
        "#Multiplication\n",
        "rows =int(input(\"\"))\n",
        "col= int(input(\"\"))\n",
        "a=[[0]*col]*rows\n",
        "b=[[0]*col]*rows\n",
        "for i in range(rows):\n",
        "  for j in range(col):\n",
        "    a[i][j]=int(input(\"\"))\n",
        "for i in range(rows):\n",
        "  for j in range(col):\n",
        "    b[i][j]=int(input(\"\"))\n",
        "pro=[[0]*col]*rows\n",
        "\n",
        "for i in range(rows):\n",
        "  for j in range(col):\n",
        "    pro[i][j]+=a[i][j]*b[j][i]\n",
        "for i in range(rows):\n",
        "  for j in range(col):\n",
        "    print(pro[i][j],end=\" \")\n",
        "  print()"
      ],
      "metadata": {
        "colab": {
          "base_uri": "https://localhost:8080/"
        },
        "id": "OcmDlFXPMUqG",
        "outputId": "2ac85962-b749-4ac1-e742-c1766b9fe21e"
      },
      "execution_count": null,
      "outputs": [
        {
          "output_type": "stream",
          "name": "stdout",
          "text": [
            "2\n",
            "2\n",
            "2\n",
            "2\n",
            "2\n",
            "2\n",
            "2\n",
            "2\n",
            "2\n",
            "2\n",
            "88\n",
            "88\n"
          ]
        }
      ]
    },
    {
      "cell_type": "code",
      "source": [
        "#Multiplication statically\n",
        "rows=col=2\n",
        "a=[[2,2],[2,2]]\n",
        "b=[[2,2],[2,2]]\n",
        "pro=[[0]*col]*rows\n",
        "for i in range(rows):\n",
        "  for j in range(col):\n",
        "    pro[i][j]+=a[i][j]*b[j][i]\n",
        "for i in range(rows):\n",
        "  for j in range(col):\n",
        "    print(pro[i][j],end=\" \")\n",
        "  print()"
      ],
      "metadata": {
        "colab": {
          "base_uri": "https://localhost:8080/"
        },
        "id": "DBtEDkYSNGNF",
        "outputId": "06705b7f-de85-4851-e0c4-f22dfa21d305"
      },
      "execution_count": null,
      "outputs": [
        {
          "output_type": "stream",
          "name": "stdout",
          "text": [
            "8 8 \n",
            "8 8 \n"
          ]
        }
      ]
    },
    {
      "cell_type": "code",
      "source": [
        "#Bubble Sort\n",
        "#Time Complexcity :O(N^2)\n",
        "def function1(a):\n",
        "  for i in range(len(a)):\n",
        "    for j in range (len(a)-1):\n",
        "      if a[j] > a[j+1]:\n",
        "        temp=a[j+1]\n",
        "        a[j+1]=a[j]\n",
        "        a[j]=temp\n",
        "  return a\n",
        "a=[1,23,4,5,6,79,0,34]\n",
        "print(function1(a))"
      ],
      "metadata": {
        "colab": {
          "base_uri": "https://localhost:8080/"
        },
        "id": "SXqYLzddO4sk",
        "outputId": "de272f99-ae59-4840-f83a-254f1f87d471"
      },
      "execution_count": null,
      "outputs": [
        {
          "output_type": "stream",
          "name": "stdout",
          "text": [
            "[0, 1, 4, 5, 6, 23, 34, 79]\n"
          ]
        }
      ]
    },
    {
      "cell_type": "code",
      "source": [
        "#Bubble Sort\n",
        "#Dynamically taking the values\n",
        "#Time Complexcity O(N^2)\n",
        "def function1(a):\n",
        "  for i in range(len(a)):\n",
        "    for j in range (len(a)-1):\n",
        "      if a[j] > a[j+1]:\n",
        "        temp=a[j+1]\n",
        "        a[j+1]=a[j]\n",
        "        a[j]=temp\n",
        "  return a\n",
        "n=int(input(\"enter the size of the Array: \"))\n",
        "a=[]\n",
        "for i in range(n):\n",
        "  a.append(int(input()))\n",
        "print(function1(a))"
      ],
      "metadata": {
        "colab": {
          "base_uri": "https://localhost:8080/"
        },
        "id": "hYb8Xdw9tbTv",
        "outputId": "8cd998a6-1235-444d-bfa5-4c8bcf733708"
      },
      "execution_count": 2,
      "outputs": [
        {
          "output_type": "stream",
          "name": "stdout",
          "text": [
            "enter the size of the Array: 2\n",
            "45\n",
            "1\n",
            "[1, 45]\n"
          ]
        }
      ]
    },
    {
      "cell_type": "code",
      "source": [
        "#Insertion Sort\n",
        "#Time Complexcity O(n^2)\n",
        "def function1(a):\n",
        "  for i in range(len(a)):\n",
        "    key=a[i]\n",
        "    j=i-1\n",
        "    while j>=0 and key<a[j]:\n",
        "      a[j + 1] = a[j]\n",
        "      j -= 1\n",
        "    a[j + 1] = key\n",
        "  return a\n",
        "a=[1,23,4,5,6,79,0,34]\n",
        "print(function1(a))"
      ],
      "metadata": {
        "colab": {
          "base_uri": "https://localhost:8080/"
        },
        "id": "A5NOgF3mPkEU",
        "outputId": "2731da00-0f53-469b-f915-1bd08f98703f"
      },
      "execution_count": null,
      "outputs": [
        {
          "output_type": "stream",
          "name": "stdout",
          "text": [
            "[0, 1, 4, 5, 6, 23, 34, 79]\n"
          ]
        }
      ]
    },
    {
      "cell_type": "code",
      "source": [
        "#Selection Sort\n",
        "#Time Complexcity O(N^2)\n",
        "#Space Complexcity\n",
        "def function1(a):\n",
        "  for i in range(len(a)-1):\n",
        "    index=i\n",
        "    for j in range(i+1,len(a)):\n",
        "      if(a[index] > a[j]):\n",
        "        index=j\n",
        "    a[i],a[index]=a[index],a[i]\n",
        "  return a\n",
        "a=[1,23,4,5,6,79,0,34]\n",
        "print(function1(a))"
      ],
      "metadata": {
        "colab": {
          "base_uri": "https://localhost:8080/"
        },
        "id": "vaTFaNNEUhmX",
        "outputId": "d4580ffd-d14b-40e7-a11a-431b197037bb"
      },
      "execution_count": null,
      "outputs": [
        {
          "output_type": "stream",
          "name": "stdout",
          "text": [
            "[0, 1, 4, 5, 6, 23, 34, 79]\n"
          ]
        }
      ]
    },
    {
      "cell_type": "code",
      "source": [],
      "metadata": {
        "id": "KE_1ifwWxhq8"
      },
      "execution_count": null,
      "outputs": []
    }
  ]
}